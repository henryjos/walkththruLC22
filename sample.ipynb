{
 "cells": [
  {
   "cell_type": "markdown",
   "id": "3d18ff6e-028e-4c79-8d9e-47f16feb99d3",
   "metadata": {},
   "source": [
    "# Hello, Walkthru sample notebook"
   ]
  },
  {
   "cell_type": "markdown",
   "id": "b5f37ea7-b9cd-4ca1-9cb9-51881db3c8a0",
   "metadata": {},
   "source": [
    "here is how I calculate `1+1`"
   ]
  },
  {
   "cell_type": "code",
   "execution_count": 1,
   "id": "805834eb-f378-4e62-afc9-e47ec7a5d195",
   "metadata": {},
   "outputs": [
    {
     "data": {
      "text/plain": [
       "2"
      ]
     },
     "execution_count": 1,
     "metadata": {},
     "output_type": "execute_result"
    }
   ],
   "source": [
    "1+1"
   ]
  },
  {
   "cell_type": "code",
   "execution_count": 2,
   "id": "e043f868-8fd6-40a0-b046-4da23c5724ff",
   "metadata": {},
   "outputs": [],
   "source": [
    "from numpy import *"
   ]
  },
  {
   "cell_type": "markdown",
   "id": "f915e71f-1e63-4bc8-9181-9676d2a7987c",
   "metadata": {},
   "source": [
    "Here is how I calculate `sin`:"
   ]
  },
  {
   "cell_type": "code",
   "execution_count": 3,
   "id": "83b80f62-51a4-4f2d-9f5b-0615954df70d",
   "metadata": {},
   "outputs": [
    {
     "data": {
      "text/plain": [
       "array([0.84147098, 1.        ])"
      ]
     },
     "execution_count": 3,
     "metadata": {},
     "output_type": "execute_result"
    }
   ],
   "source": [
    "a = array ([1.0, pi/2])\n",
    "sin(a)"
   ]
  },
  {
   "cell_type": "code",
   "execution_count": null,
   "id": "cd394fa3-35ee-4ef7-9572-2a49dcb498ff",
   "metadata": {},
   "outputs": [],
   "source": []
  }
 ],
 "metadata": {
  "kernelspec": {
   "display_name": "Python 3 (ipykernel)",
   "language": "python",
   "name": "python3"
  },
  "language_info": {
   "codemirror_mode": {
    "name": "ipython",
    "version": 3
   },
   "file_extension": ".py",
   "mimetype": "text/x-python",
   "name": "python",
   "nbconvert_exporter": "python",
   "pygments_lexer": "ipython3",
   "version": "3.10.6"
  }
 },
 "nbformat": 4,
 "nbformat_minor": 5
}
